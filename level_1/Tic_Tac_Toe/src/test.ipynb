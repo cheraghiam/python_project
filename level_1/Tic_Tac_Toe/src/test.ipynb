{
 "cells": [
  {
   "cell_type": "markdown",
   "id": "bcd88832",
   "metadata": {},
   "source": [
    "- table\n",
    "- select from user\n",
    "- select from game\n",
    "- conditional win"
   ]
  },
  {
   "cell_type": "code",
   "execution_count": null,
   "id": "5cfa2748",
   "metadata": {},
   "outputs": [],
   "source": [
    "import random\n",
    "\n",
    "\n",
    "class Tic_Tac_Toe:\n",
    "    def __init__(self):\n",
    "        self.board = [' ' for _ in range(10)]\n",
    "        print(self.board[0], '\\n')\n",
    "        print(self.board[1], '|', self.board[2], '|', self.board[3])\n",
    "        print(self.board[4], '|', self.board[5], '|', self.board[6])\n",
    "        print(self.board[7], '|', self.board[8], '|', self.board[9])\n",
    "\n",
    "    def select_user(self, num):\n",
    "        if self.board[num] == ' ':\n",
    "            self.board[num] = 'X'\n",
    "            print(self.board[0], '\\n')\n",
    "            print(self.board[1], '|', self.board[2], '|', self.board[3])\n",
    "            print(self.board[4], '|', self.board[5], '|', self.board[6])\n",
    "            print(self.board[7], '|', self.board[8], '|', self.board[9])\n",
    "            return self.condition_won()\n",
    "        \n",
    "    def select_game(self):\n",
    "        self.board[random.choice([ind for ind, value in enumerate(self.board) if value == ' ' and ind != 0])] = 'O'\n",
    "        print(self.board[0], '\\n')\n",
    "        print(self.board[1], '|', self.board[2], '|', self.board[3])\n",
    "        print(self.board[4], '|', self.board[5], '|', self.board[6])\n",
    "        print(self.board[7], '|', self.board[8], '|', self.board[9])\n",
    "        return self.condition_won()\n",
    "\n",
    "    def condition_won(self):\n",
    "        won_list = [(1, 2, 3), (4, 5, 6), (7, 8, 9),\n",
    "                    (1, 4, 7), (2, 5, 8), (3, 6, 9),\n",
    "                    (1, 5, 9), (3, 5, 7)]\n",
    "        \n",
    "        for state1, state2, state3 in won_list:\n",
    "            if self.board[state1] == 'X' and self.board[state2] == 'X' and self.board[state3] == 'X':\n",
    "                return \"Player X wins!\"\n",
    "\n",
    "            elif self.board[state1] == 'O' and self.board[state2] == 'O' and self.board[state3] == 'O':\n",
    "                return \"Player O wins!\"\n",
    "\n",
    "     \n"
   ]
  },
  {
   "cell_type": "code",
   "execution_count": 277,
   "id": "15cfb708",
   "metadata": {},
   "outputs": [
    {
     "name": "stdout",
     "output_type": "stream",
     "text": [
      "  \n",
      "\n",
      "  |   |  \n",
      "  |   |  \n",
      "  |   |  \n"
     ]
    }
   ],
   "source": [
    "t = Tic_Tac_Toe()"
   ]
  },
  {
   "cell_type": "code",
   "execution_count": 280,
   "id": "6cea0a16",
   "metadata": {},
   "outputs": [],
   "source": [
    "t.select_user(num=5)"
   ]
  },
  {
   "cell_type": "code",
   "execution_count": 283,
   "id": "080dff29",
   "metadata": {},
   "outputs": [
    {
     "name": "stdout",
     "output_type": "stream",
     "text": [
      "  \n",
      "\n",
      "O | O | O\n",
      "  | X |  \n",
      "O |   |  \n",
      "Player O wins!\n"
     ]
    }
   ],
   "source": [
    "t.select_game()"
   ]
  },
  {
   "cell_type": "code",
   "execution_count": null,
   "id": "af9ecc00",
   "metadata": {},
   "outputs": [],
   "source": [
    "``"
   ]
  }
 ],
 "metadata": {
  "kernelspec": {
   "display_name": "base",
   "language": "python",
   "name": "python3"
  },
  "language_info": {
   "codemirror_mode": {
    "name": "ipython",
    "version": 3
   },
   "file_extension": ".py",
   "mimetype": "text/x-python",
   "name": "python",
   "nbconvert_exporter": "python",
   "pygments_lexer": "ipython3",
   "version": "3.7.6"
  }
 },
 "nbformat": 4,
 "nbformat_minor": 5
}
